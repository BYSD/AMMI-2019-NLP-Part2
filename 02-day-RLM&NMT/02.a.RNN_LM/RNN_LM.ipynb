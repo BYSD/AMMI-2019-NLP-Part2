{
 "cells": [
  {
   "cell_type": "markdown",
   "metadata": {},
   "source": [
    "# Recurrent Language Model"
   ]
  },
  {
   "cell_type": "markdown",
   "metadata": {},
   "source": [
    "<sup> Party adapted from https://github.com/pytorch/examples/tree/master/word_language_model </sup>"
   ]
  },
  {
   "cell_type": "markdown",
   "metadata": {},
   "source": [
    "Before we begin, let's make sure we have all the required saved files for this notebook to run. Please run the cells below to download saved files"
   ]
  },
  {
   "cell_type": "code",
   "execution_count": null,
   "metadata": {},
   "outputs": [],
   "source": [
    "! bash pyfiles/download_reqs.sh"
   ]
  },
  {
   "cell_type": "code",
   "execution_count": null,
   "metadata": {},
   "outputs": [],
   "source": [
    "import os\n",
    "\n",
    "path_to_utils = 'pyfiles'\n",
    "\n",
    "dataset = 'amazon'\n",
    "\n",
    "github_repo_path = '../../'\n",
    "path_to_train_data = os.path.join(github_repo_path, 'data/train.txt')\n",
    "path_to_valid_data = os.path.join(github_repo_path, 'data/valid.txt')\n",
    "\n",
    "path_to_saved_models = 'saved_models'"
   ]
  },
  {
   "cell_type": "code",
   "execution_count": null,
   "metadata": {},
   "outputs": [],
   "source": [
    "\n",
    "import sys\n",
    "\n",
    "sys.path.append(path_to_utils)\n",
    "\n",
    "import loading_text_and_tokenization\n",
    "import torch\n",
    "import numpy as np\n",
    "import torch.nn as nn\n",
    "import random\n",
    "import math\n",
    "import torch.nn.functional as F\n",
    "\n",
    "import pickle"
   ]
  },
  {
   "cell_type": "code",
   "execution_count": null,
   "metadata": {},
   "outputs": [],
   "source": [
    "USE_CUDA = True\n",
    "device = torch.device(\"cuda\" if USE_CUDA else \"cpu\")"
   ]
  },
  {
   "cell_type": "code",
   "execution_count": null,
   "metadata": {},
   "outputs": [],
   "source": [
    "batch_size = 64"
   ]
  },
  {
   "cell_type": "markdown",
   "metadata": {},
   "source": [
    "### Loading Data and turning into batches"
   ]
  },
  {
   "cell_type": "code",
   "execution_count": null,
   "metadata": {},
   "outputs": [],
   "source": [
    "corpus_filename = os.path.join(path_to_saved_models, dataset+'_obj.p')\n",
    "\n",
    "create_dataset_obj_again = False\n",
    "if os.path.exists(corpus_filename) and (not create_dataset_obj_again):\n",
    "    corpus = pickle.load( open( corpus_filename, \"rb\" ) )\n",
    "else:\n",
    "    corpus = loading_text_and_tokenization.Corpus(path_to_train_data, \n",
    "                                                  path_to_valid_data)\n",
    "    pickle.dump( corpus, open( corpus_filename, \"wb\" ) )"
   ]
  },
  {
   "cell_type": "markdown",
   "metadata": {},
   "source": [
    "### Aside: torch.Tensor.narrow"
   ]
  },
  {
   "cell_type": "code",
   "execution_count": null,
   "metadata": {},
   "outputs": [],
   "source": [
    "dummy_tensor = torch.arange(0, 10);\n",
    "print(dummy_tensor)"
   ]
  },
  {
   "cell_type": "code",
   "execution_count": null,
   "metadata": {},
   "outputs": [],
   "source": [
    "dummy_tensor.narrow(0, 1, 5)"
   ]
  },
  {
   "cell_type": "code",
   "execution_count": null,
   "metadata": {},
   "outputs": [],
   "source": [
    "dummy_tensor.narrow(0, 5, 4)"
   ]
  },
  {
   "cell_type": "markdown",
   "metadata": {},
   "source": [
    "All we need to understand is that .narrow() is just a way to do indexing. When we do dummy_tensor.narrow(0, i, j) we are indexing dummy_tensor[i:i+j]"
   ]
  },
  {
   "cell_type": "raw",
   "metadata": {},
   "source": [
    "Batchify Function\n",
    "\n",
    "Starting from sequential data, batchify arranges the dataset into columns.\n",
    "For instance, with the alphabet as the sequence and batch size 4, we'd get\n",
    "┌ a g m s ┐\n",
    "│ b h n t │\n",
    "│ c i o u │\n",
    "│ d j p v │\n",
    "│ e k q w │\n",
    "└ f l r x ┘.\n",
    "These columns are treated as independent by the model, which means that the\n",
    "dependence of e. g. 'g' on 'f' can not be learned, but allows more efficient\n",
    "batch processing."
   ]
  },
  {
   "cell_type": "code",
   "execution_count": null,
   "metadata": {},
   "outputs": [],
   "source": [
    "def batchify(data, bsz, random_start_idx=False):\n",
    "    # calculate total number of batches that fit cleanly\n",
    "    nbatch = data.size(0) // bsz\n",
    "    if random_start_idx:\n",
    "        start_idx = random.randint(0, data.size(0) % bsz - 1)\n",
    "    else:\n",
    "        start_idx = 0\n",
    "        \n",
    "    # Trim off any extra elements that wouldn't cleanly fit (remainders).\n",
    "    # Nice thing about this: \n",
    "    # u don't need to pad since every sequence now has same length\n",
    "    data = data.narrow(0, start_idx, nbatch * bsz)\n",
    "    \n",
    "    # Evenly divide the data across the bsz batches.\n",
    "    data = data.view(bsz, -1).t().contiguous()\n",
    "    return data.to(device)\n"
   ]
  },
  {
   "cell_type": "raw",
   "metadata": {},
   "source": [
    "Get Batch Function\n",
    "\n",
    "get_batch subdivides the source data into chunks of max_seq_len.\n",
    "If source is equal to the example output of the batchify function, i, e, \n",
    "┌ a g m s ┐\n",
    "│ b h n t │\n",
    "│ c i o u │\n",
    "│ d j p v │\n",
    "│ e k q w │\n",
    "└ f l r x ┘\n",
    "\n",
    "then with max_seq_len = 2, we'd get the following two Variables for i = 0:\n",
    "┌ a g m s ┐ ┌ b h n t ┐\n",
    "└ b h n t ┘ └ c i o u ┘\n"
   ]
  },
  {
   "cell_type": "code",
   "execution_count": null,
   "metadata": {},
   "outputs": [],
   "source": [
    "\n",
    "def get_batch(source, i, max_seq_len):\n",
    "    seq_len = min(max_seq_len, len(source) - 1 - i)\n",
    "    data = source[i:i+seq_len]\n",
    "    target = source[i+1:i+1+seq_len].view(-1)\n",
    "    return data, target\n"
   ]
  },
  {
   "cell_type": "markdown",
   "metadata": {},
   "source": [
    "### Train Step"
   ]
  },
  {
   "cell_type": "code",
   "execution_count": null,
   "metadata": {},
   "outputs": [],
   "source": [
    "clip = 0.25\n",
    "log_interval = 200\n",
    "criterion = nn.CrossEntropyLoss()\n",
    "\n",
    "def repackage_hidden(h):\n",
    "    \"\"\"\n",
    "        Wraps hidden states in new Tensors, to detach them from their history.\n",
    "    \"\"\"\n",
    "    if isinstance(h, torch.Tensor):\n",
    "        return h.detach()\n",
    "    else:\n",
    "        return tuple(repackage_hidden(v) for v in h)\n",
    "    \n",
    "def train_step(model, lr, epoch):\n",
    "    model.train()\n",
    "    total_loss = 0.\n",
    "    hidden = model.init_hidden(batch_size)\n",
    "    \n",
    "    # We shuffle train data every epoch\n",
    "    train_data = batchify(corpus.train, batch_size, random_start_idx=True)\n",
    "    \n",
    "    for batch, i in enumerate(range(0, train_data.size(0) - 1, max_seq_len)):\n",
    "        data, targets = get_batch(train_data, i, max_seq_len)\n",
    "        \n",
    "        # Starting each batch, we detach the hidden state from how it was previously produced.\n",
    "        # If we didn't, the model would try backpropagating all the way to start of the dataset.\n",
    "        hidden = repackage_hidden(hidden)\n",
    "        model.zero_grad()\n",
    "        \n",
    "        output, hidden = model(data, hidden)\n",
    "        loss = criterion(output.view(-1, vocab_size), targets)\n",
    "        loss.backward()\n",
    "\n",
    "        # `clip_grad_norm` helps prevent the exploding gradient problem\n",
    "        torch.nn.utils.clip_grad_norm_(model.parameters(), clip)\n",
    "        for p in model.parameters():\n",
    "            if p.grad is not None:\n",
    "                p.data.add_(-lr, p.grad.data)\n",
    "\n",
    "        total_loss += loss.item()\n",
    "\n",
    "        if batch %log_interval == 0 and batch > 0:\n",
    "            cur_loss = total_loss / log_interval\n",
    "            \n",
    "            print('| epoch {:3d} | {:5d}/{:5d} batches | lr {:02.2f} | '\n",
    "                    'loss {:5.2f} | ppl {:8.2f}'.format(\n",
    "                epoch, batch, len(train_data) // max_seq_len, lr,\n",
    "                cur_loss, math.exp(cur_loss)))\n",
    "            total_loss = 0\n",
    "            \n",
    "    return model\n"
   ]
  },
  {
   "cell_type": "markdown",
   "metadata": {},
   "source": [
    "### Perplexity"
   ]
  },
  {
   "cell_type": "markdown",
   "metadata": {},
   "source": [
    "1. Let's say we have a vocabulary size of $|V|$. Our model is completely random - every conditional distribution is uiform over the vocabulary. What will be the (expected) perplexity of the model?\n",
    "2. We have models $M_1$ and $M_2$ with vocabulary size $|V_1| >> |V_2|$. Suppose $M_2$ has a much lower perplexity. Can we conclude that $M_2$ is a better model than $M_1$?"
   ]
  },
  {
   "cell_type": "code",
   "execution_count": null,
   "metadata": {},
   "outputs": [],
   "source": [
    "# perplexity evaluation for a given corpus\n",
    "def evaluate(model, data_source, max_seq_len, eval_batch_size=32):\n",
    "    model.eval()\n",
    "    total_loss = 0.\n",
    "    hidden = model.init_hidden(eval_batch_size)\n",
    "    with torch.no_grad():\n",
    "        for i in range(0, data_source.size(0) - 1, max_seq_len):\n",
    "            data, targets = get_batch(data_source, i, max_seq_len)\n",
    "            \n",
    "            output, hidden = model(data, hidden)\n",
    "    \n",
    "            output_flat = output.view(-1, vocab_size)\n",
    "            \n",
    "            total_loss += len(data) * criterion(output_flat, targets).item()\n",
    "            hidden = repackage_hidden(hidden)\n",
    "            \n",
    "    return total_loss / len(data_source)"
   ]
  },
  {
   "cell_type": "markdown",
   "metadata": {},
   "source": [
    "### Train for $n$ epochs"
   ]
  },
  {
   "cell_type": "code",
   "execution_count": null,
   "metadata": {},
   "outputs": [],
   "source": [
    "def train_for_n_epochs(model, filename, num_epochs = 10, lr=20):\n",
    "    best_val_loss = np.inf\n",
    "    val_data = batchify(corpus.valid, batch_size, random_start_idx=True)\n",
    "    for epoch in range(1, num_epochs+1):\n",
    "        model = train_step(model, lr, epoch)\n",
    "        val_loss = evaluate(model, val_data, max_seq_len, batch_size)\n",
    "        print('-' * 89)\n",
    "        print('| end of epoch {:3d} | valid loss {:5.2f} | '\n",
    "                    'valid ppl {:8.2f}'.format(epoch, \n",
    "                                               val_loss, math.exp(val_loss)))\n",
    "        print('-' * 89)\n",
    "        # Save the model if the validation loss is the best we've seen so far.\n",
    "        if not best_val_loss or val_loss < best_val_loss:\n",
    "            with open(filename, 'wb') as f:\n",
    "                torch.save(model, f)\n",
    "            best_val_loss = val_loss\n",
    "        else:\n",
    "            # Anneal the learning rate if no improvement has been seen in the validation dataset.\n",
    "            lr /= 4.0\n",
    "    return model"
   ]
  },
  {
   "cell_type": "markdown",
   "metadata": {},
   "source": [
    "## RNN Model"
   ]
  },
  {
   "cell_type": "code",
   "execution_count": null,
   "metadata": {},
   "outputs": [],
   "source": [
    "## Common Model Parameters\n",
    "\n",
    "embed_size = 200\n",
    "hidden_size = 200\n",
    "num_layers = 2\n",
    "num_epochs = 20\n",
    "lr = 20.0\n",
    "dropout = 0.2\n",
    "max_seq_len = 35\n",
    "\n",
    "if dataset == 'amazon':\n",
    "    num_epochs = 5;\n",
    "    max_seq_len = 70\n",
    "\n",
    "\n",
    "vocab_size = len(corpus.dictionary)"
   ]
  },
  {
   "cell_type": "code",
   "execution_count": null,
   "metadata": {},
   "outputs": [],
   "source": [
    "print('vocab size: ', vocab_size)"
   ]
  },
  {
   "cell_type": "code",
   "execution_count": null,
   "metadata": {},
   "outputs": [],
   "source": [
    "filename_rnn = os.path.join(path_to_saved_models, 'rnn_'+dataset+'.pth')"
   ]
  },
  {
   "cell_type": "code",
   "execution_count": null,
   "metadata": {},
   "outputs": [],
   "source": [
    "class RNNModel(nn.Module):\n",
    "    def __init__(self, vocab_size, embed_size, hidden_size, num_layers, dropout=0.5):\n",
    "        super(RNNModel, self).__init__()\n",
    "        self.drop = nn.Dropout(dropout)\n",
    "        \n",
    "        self.encoder = nn.Embedding(vocab_size, embed_size)\n",
    "        self.rnn = nn.LSTM(embed_size, hidden_size, num_layers, dropout=dropout)\n",
    "        self.decoder = nn.Linear(hidden_size, vocab_size)\n",
    "\n",
    "        self.init_weights()\n",
    "        self.hidden_size = hidden_size\n",
    "        self.num_layers = num_layers\n",
    "\n",
    "    def init_weights(self):\n",
    "        initrange = 0.1\n",
    "        self.encoder.weight.data.uniform_(-initrange, initrange)\n",
    "        self.decoder.bias.data.zero_()\n",
    "        self.decoder.weight.data.uniform_(-initrange, initrange)\n",
    "\n",
    "    def forward(self, input, hidden):\n",
    "        emb = self.drop(self.encoder(input))\n",
    "        output, hidden = self.rnn(emb, hidden)\n",
    "        output = self.drop(output)\n",
    "        decoded = self.decoder(output.view(output.size(0)*output.size(1), output.size(2)))\n",
    "        return decoded.view(output.size(0), output.size(1), decoded.size(1)), hidden\n",
    "\n",
    "    def init_hidden(self, bsz):\n",
    "        weight = next(self.parameters())\n",
    "        return (weight.new_zeros(self.num_layers, bsz, self.hidden_size),\n",
    "                    weight.new_zeros(self.num_layers, bsz, self.hidden_size))"
   ]
  },
  {
   "cell_type": "markdown",
   "metadata": {},
   "source": [
    "Note that in our decoder output we haven't applied softmax. Why?\n",
    "\n",
    "We use nn.CrossEntropyLoss() to train. From pytorch documentation for nn.CrossEntropyLoss() ( https://pytorch.org/docs/stable/nn.html ) - this criterion combines nn.LogSoftmax() and nn.NLLLoss() in one single class. So, this is actually exactly the same as minimizing the log likelihood after applying softmax. "
   ]
  },
  {
   "cell_type": "code",
   "execution_count": null,
   "metadata": {},
   "outputs": [],
   "source": [
    "model_rnn = RNNModel(vocab_size, embed_size, hidden_size, num_layers, dropout).to(device)"
   ]
  },
  {
   "cell_type": "markdown",
   "metadata": {},
   "source": [
    "### Training RNN Model or Loading Saved Model"
   ]
  },
  {
   "cell_type": "code",
   "execution_count": null,
   "metadata": {},
   "outputs": [],
   "source": [
    "train_again = False"
   ]
  },
  {
   "cell_type": "code",
   "execution_count": null,
   "metadata": {},
   "outputs": [],
   "source": [
    "if os.path.exists(filename_rnn) and (not train_again):\n",
    "    model_rnn = torch.load(filename_rnn);\n",
    "else:\n",
    "    model_rnn = train_for_n_epochs(model = model_rnn, \n",
    "                               filename = filename_rnn,\n",
    "                               num_epochs = num_epochs)\n"
   ]
  },
  {
   "cell_type": "markdown",
   "metadata": {},
   "source": [
    "### Checking Validation Performance"
   ]
  },
  {
   "cell_type": "code",
   "execution_count": null,
   "metadata": {},
   "outputs": [],
   "source": [
    "def validation_performance(model, model_name):\n",
    "    val_data = batchify(corpus.valid, batch_size, random_start_idx=True)\n",
    "    val_loss = evaluate(model, val_data, max_seq_len, batch_size)\n",
    "    print('| {} | valid loss {:5.2f} | '\n",
    "                'valid ppl {:8.2f}'.format(model_name, val_loss, math.exp(val_loss)))"
   ]
  },
  {
   "cell_type": "code",
   "execution_count": null,
   "metadata": {},
   "outputs": [],
   "source": [
    "validation_performance(model_rnn, 'RNN')"
   ]
  },
  {
   "cell_type": "markdown",
   "metadata": {},
   "source": [
    "### Scoring The Sentence"
   ]
  },
  {
   "cell_type": "code",
   "execution_count": null,
   "metadata": {},
   "outputs": [],
   "source": [
    "def score_sentences(model, sent_list):\n",
    "    ppl_list = []\n",
    "    for sent in sent_list:\n",
    "        tokens = corpus.tokenize_sentence(sent)\n",
    "        test_sent_idx = batchify(tokens, 1)\n",
    "        loss = evaluate(model, test_sent_idx, len(tokens), 1)\n",
    "        ppl_list.append((sent, math.exp(loss)))\n",
    "    return ppl_list"
   ]
  },
  {
   "cell_type": "code",
   "execution_count": null,
   "metadata": {},
   "outputs": [],
   "source": [
    "test_sentences = [ 'i like pandas', \\\n",
    "                  'this cloth is nice.', \\\n",
    "                  'i like this', \\\n",
    "                  'i will definitely recommend this', \\\n",
    "                  'i like eating', \\\n",
    "                  'i like dress', \\\n",
    "                  'i like this dress', \\\n",
    "                  'cho likes dress', \\\n",
    "                  'roberta likes dress', \\\n",
    "                  'roberta likes this dress', \\\n",
    "                  'this purse is nice', \\\n",
    "                  'my wife really likes the color of this dress']\n",
    "\n",
    "score_sentences(model_rnn, test_sentences)"
   ]
  },
  {
   "cell_type": "markdown",
   "metadata": {},
   "source": [
    "## Generation"
   ]
  },
  {
   "cell_type": "code",
   "execution_count": null,
   "metadata": {},
   "outputs": [],
   "source": [
    "def generate_words(model, n_words = 100, input_token = None):\n",
    "    #n_words number of words to generate\n",
    "    ntokens = len(corpus.dictionary)\n",
    "    hidden = model.init_hidden(1)\n",
    "    \n",
    "    if input_token is None:\n",
    "        input = torch.randint(ntokens, (1, 1), dtype=torch.long).to(device)\n",
    "    else:\n",
    "        input = torch.tensor([[corpus.dictionary.word2idx[input_token]]], dtype=torch.long).to(device)\n",
    "    \n",
    "    sentence = corpus.dictionary.idx2word[input.item()] + ' '\n",
    "    model.eval()\n",
    "    with torch.no_grad():  # no tracking history\n",
    "        for i in range(n_words):\n",
    "            output, hidden = model(input, hidden)\n",
    "            word_weights = output.squeeze().div(1.0).exp().cpu()\n",
    "            word_idx = torch.multinomial(word_weights, 1)[0]\n",
    "\n",
    "            input.fill_(word_idx)\n",
    "  \n",
    "            word = corpus.dictionary.idx2word[word_idx]\n",
    "\n",
    "            sentence += word +' '\n",
    "        \n",
    "    return sentence"
   ]
  },
  {
   "cell_type": "code",
   "execution_count": null,
   "metadata": {},
   "outputs": [],
   "source": [
    "generate_words(model_rnn)"
   ]
  },
  {
   "cell_type": "code",
   "execution_count": null,
   "metadata": {},
   "outputs": [],
   "source": [
    "generate_words(model_rnn, input_token = 'a')"
   ]
  },
  {
   "cell_type": "markdown",
   "metadata": {},
   "source": [
    "# Self Attention"
   ]
  },
  {
   "cell_type": "code",
   "execution_count": null,
   "metadata": {},
   "outputs": [],
   "source": [
    "class SelfAttn_Model(nn.Module):\n",
    "    def __init__(self, vocab_size, embed_size, hidden_size, num_layers=1, \n",
    "                 dropout = 0.5, idropout = 0.5, self_attention = True):\n",
    "        super(SelfAttn_Model, self).__init__()\n",
    "\n",
    "        \n",
    "        self.drop = nn.Dropout(dropout)\n",
    "        \n",
    "        self.encoder = nn.Embedding(vocab_size, embed_size)\n",
    "        self.rnn = nn.GRUCell(hidden_size, hidden_size, bias=True);\n",
    "\n",
    "        self.hidden_size = hidden_size\n",
    "        self.num_layers = num_layers\n",
    "        \n",
    "    \n",
    "        self.projector_summ = nn.Sequential(nn.Dropout(idropout),\n",
    "                                            nn.Linear(embed_size + hidden_size, hidden_size),\n",
    "                                            nn.Dropout(idropout))\n",
    "        \n",
    "        self.decoder = nn.Linear(embed_size + hidden_size, vocab_size)\n",
    "        self.vocab_size = vocab_size;\n",
    "        \n",
    "        self.self_attention = self_attention;\n",
    "\n",
    "    def forward(self, input, memory):\n",
    "        emb = self.encoder(input)\n",
    "        emb = F.relu(emb)\n",
    "        \n",
    "        return_scores = torch.empty(emb.size(0), emb.size(1), self.vocab_size).to(input.device)        \n",
    "        \n",
    "        for t in range(emb.size(0)):\n",
    "            current_vec = emb[t];\n",
    "            \n",
    "            if self.self_attention:\n",
    "                selected_memory, attention0 = self.attention(current_vec, memory)\n",
    "            else:\n",
    "                selected_memory, attention0 = memory[:, 0, :], None;\n",
    "\n",
    "            # recurrent\n",
    "            mem_out = current_vec;\n",
    "\n",
    "            # update memory\n",
    "            memory = torch.cat([mem_out[:, None, :], memory[:, :-25, :]], dim=1)\n",
    "    \n",
    "            scores = self.decoder( torch.cat([mem_out, selected_memory], dim = 1) )\n",
    "            return_scores[t] = scores\n",
    "            \n",
    "        return return_scores.contiguous(), memory\n",
    "\n",
    "    def attention(self, input, memory):\n",
    "        # select memory to use\n",
    "        concat_vec = torch.cat([input,  memory[:, 0, :]], dim=1);\n",
    "        projected_vec = self.projector_summ(concat_vec);\n",
    "    \n",
    "        dot_product_values = torch.bmm(memory, projected_vec.unsqueeze(-1)).squeeze(-1)/ math.sqrt(self.hidden_size);\n",
    "        \n",
    "        weights =  F.softmax(dot_product_values, dim = 1).unsqueeze(-1);\n",
    "        \n",
    "        selected_memory = torch.sum( memory * weights, dim=1)\n",
    "        return selected_memory, weights\n",
    "\n",
    "    def init_hidden(self, bsz):\n",
    "        return torch.zeros(bsz, 1, self.hidden_size).to(self.decoder.weight.device)\n"
   ]
  },
  {
   "cell_type": "code",
   "execution_count": null,
   "metadata": {},
   "outputs": [],
   "source": [
    "filename_selfattn = os.path.join(path_to_saved_models, 'selfattn_'+dataset+'.pth');"
   ]
  },
  {
   "cell_type": "code",
   "execution_count": null,
   "metadata": {},
   "outputs": [],
   "source": [
    "model_selfattn = SelfAttn_Model(vocab_size, embed_size, hidden_size, num_layers, dropout).to(device)"
   ]
  },
  {
   "cell_type": "code",
   "execution_count": null,
   "metadata": {},
   "outputs": [],
   "source": [
    "train_again = False\n",
    "if os.path.exists(filename_selfattn) and (not train_again):\n",
    "    model_selfattn = torch.load(filename_selfattn);\n",
    "else:\n",
    "    model_selfattn = train_for_n_epochs(model = model_selfattn, \n",
    "                               filename = filename_selfattn,\n",
    "                               num_epochs = num_epochs)\n"
   ]
  },
  {
   "cell_type": "markdown",
   "metadata": {},
   "source": [
    "### Checking Validation Performance"
   ]
  },
  {
   "cell_type": "code",
   "execution_count": null,
   "metadata": {},
   "outputs": [],
   "source": [
    "validation_performance(model_selfattn, 'Self Attention')"
   ]
  },
  {
   "cell_type": "markdown",
   "metadata": {},
   "source": [
    "### Scoring Sentences"
   ]
  },
  {
   "cell_type": "code",
   "execution_count": null,
   "metadata": {},
   "outputs": [],
   "source": [
    "score_sentences(model_selfattn, test_sentences)"
   ]
  },
  {
   "cell_type": "markdown",
   "metadata": {},
   "source": [
    "### Generating Sentences"
   ]
  },
  {
   "cell_type": "code",
   "execution_count": null,
   "metadata": {},
   "outputs": [],
   "source": [
    "generate_words(model_selfattn)"
   ]
  },
  {
   "cell_type": "code",
   "execution_count": null,
   "metadata": {},
   "outputs": [],
   "source": [
    "generate_words(model_selfattn, input_token = 'a')"
   ]
  },
  {
   "cell_type": "markdown",
   "metadata": {},
   "source": [
    "## RNN + Self Attention"
   ]
  },
  {
   "cell_type": "code",
   "execution_count": null,
   "metadata": {},
   "outputs": [],
   "source": [
    "class RNN_SelfAttn_Model(nn.Module):\n",
    "    def __init__(self, vocab_size, embed_size, hidden_size, num_layers=1, \n",
    "                 dropout = 0.5, idropout = 0.5, self_attention = True):\n",
    "        super(RNN_SelfAttn_Model, self).__init__()\n",
    "\n",
    "        \n",
    "        self.drop = nn.Dropout(dropout)\n",
    "        \n",
    "        self.encoder = nn.Embedding(vocab_size, embed_size)\n",
    "        self.rnn = nn.GRUCell(hidden_size, hidden_size, bias=True);\n",
    "\n",
    "        self.hidden_size = hidden_size\n",
    "        self.num_layers = num_layers\n",
    "        \n",
    "        self.memory_rnn = nn.GRUCell(embed_size, hidden_size)\n",
    "        self.projector_summ = nn.Sequential(nn.Dropout(idropout),\n",
    "                                            nn.Linear(embed_size + hidden_size, hidden_size),\n",
    "                                            nn.Dropout(idropout))\n",
    "        \n",
    "        self.decoder = nn.Linear(hidden_size, vocab_size)\n",
    "        self.vocab_size = vocab_size;\n",
    "        \n",
    "        self.self_attention = self_attention;\n",
    "\n",
    "    def forward(self, input, memory):\n",
    "        emb = self.encoder(input)\n",
    "        emb = F.relu(emb)\n",
    "        \n",
    "#         print(emb.shape)\n",
    "#         emb = emb.transpose(0, 1);\n",
    "        return_scores = torch.empty(emb.size(0), emb.size(1), self.vocab_size).to(input.device)        \n",
    "        \n",
    "        for t in range(emb.size(0)):\n",
    "            current_vec = emb[t];\n",
    "            \n",
    "            if self.self_attention:\n",
    "                selected_memory, attention0 = self.attention(current_vec, memory)\n",
    "            else:\n",
    "                selected_memory, attention0 = memory[:, 0, :], None;\n",
    "\n",
    "            # recurrent\n",
    "            mem_out = self.memory_rnn(current_vec, selected_memory);\n",
    "\n",
    "            # update memory\n",
    "            memory = torch.cat([mem_out[:, None, :], memory[:, :-3, :]], dim=1)\n",
    "    \n",
    "            scores = self.decoder(mem_out)\n",
    "            return_scores[t] = scores\n",
    "            \n",
    "        return return_scores.contiguous(), memory\n",
    "\n",
    "    def attention(self, input, memory):\n",
    "        # select memory to use\n",
    "        concat_vec = torch.cat([input,  memory[:, 0, :]], dim=1);\n",
    "        projected_vec = self.projector_summ(concat_vec);\n",
    "    \n",
    "        dot_product_values = torch.bmm(memory, projected_vec.unsqueeze(-1)).squeeze(-1)/ math.sqrt(self.hidden_size);\n",
    "        \n",
    "        weights =  F.softmax(dot_product_values, dim = 1).unsqueeze(-1);\n",
    "        \n",
    "        selected_memory = torch.sum( memory * weights, dim=1)\n",
    "        return selected_memory, weights\n",
    "\n",
    "    def init_hidden(self, bsz):\n",
    "        return torch.zeros(bsz, 1, self.hidden_size).to(self.decoder.weight.device)\n"
   ]
  },
  {
   "cell_type": "code",
   "execution_count": null,
   "metadata": {},
   "outputs": [],
   "source": [
    "filename_rnn_selfattn = os.path.join(path_to_saved_models, 'rnn_selfattn_'+dataset+'.pth');"
   ]
  },
  {
   "cell_type": "code",
   "execution_count": null,
   "metadata": {},
   "outputs": [],
   "source": [
    "model_rnn_selfattn = RNN_SelfAttn_Model(vocab_size, embed_size, hidden_size, num_layers, dropout).to(device)"
   ]
  },
  {
   "cell_type": "code",
   "execution_count": null,
   "metadata": {},
   "outputs": [],
   "source": [
    "train_again = False\n",
    "continue_training = True\n",
    "if os.path.exists(filename_rnn_selfattn) and (not train_again):\n",
    "    model_rnn_selfattn = torch.load(filename_rnn_selfattn);\n",
    "else:\n",
    "    if continue_training:\n",
    "        if os.path.exists(filename_rnn_selfattn):\n",
    "            model_rnn_selfattn = torch.load(filename_rnn_selfattn);\n",
    "    model_rnn_selfattn = train_for_n_epochs(model = model_rnn_selfattn, \n",
    "                               filename = filename_rnn_selfattn,\n",
    "                               num_epochs = num_epochs, \n",
    "                               lr = lr)\n"
   ]
  },
  {
   "cell_type": "markdown",
   "metadata": {},
   "source": [
    "### Checking Validation Performance"
   ]
  },
  {
   "cell_type": "code",
   "execution_count": null,
   "metadata": {},
   "outputs": [],
   "source": [
    "validation_performance(model_rnn_selfattn, 'RNN + Self Attention')"
   ]
  },
  {
   "cell_type": "markdown",
   "metadata": {},
   "source": [
    "### Scoring Sentences"
   ]
  },
  {
   "cell_type": "code",
   "execution_count": null,
   "metadata": {},
   "outputs": [],
   "source": [
    "score_sentences(model_rnn_selfattn, test_sentences)"
   ]
  },
  {
   "cell_type": "markdown",
   "metadata": {},
   "source": [
    "### Generating Sentences"
   ]
  },
  {
   "cell_type": "code",
   "execution_count": null,
   "metadata": {},
   "outputs": [],
   "source": [
    "generate_words(model_rnn_selfattn)"
   ]
  },
  {
   "cell_type": "code",
   "execution_count": null,
   "metadata": {},
   "outputs": [],
   "source": [
    "generate_words(model_rnn_selfattn, input_token = 'a')"
   ]
  }
 ],
 "metadata": {
  "kernelspec": {
   "display_name": "Python 3",
   "language": "python",
   "name": "python3"
  },
  "language_info": {
   "codemirror_mode": {
    "name": "ipython",
    "version": 3
   },
   "file_extension": ".py",
   "mimetype": "text/x-python",
   "name": "python",
   "nbconvert_exporter": "python",
   "pygments_lexer": "ipython3",
   "version": "3.7.2"
  }
 },
 "nbformat": 4,
 "nbformat_minor": 2
}
